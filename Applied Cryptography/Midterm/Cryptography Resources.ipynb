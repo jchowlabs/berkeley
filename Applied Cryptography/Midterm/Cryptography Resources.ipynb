{
 "cells": [
  {
   "cell_type": "code",
   "execution_count": 19,
   "id": "7c5e84e6",
   "metadata": {},
   "outputs": [
    {
     "name": "stdout",
     "output_type": "stream",
     "text": [
      "Factors:  [2, 2, 7, 31]\n"
     ]
    }
   ],
   "source": [
    "#Factoring without built-in Python or SageMath tools. \n",
    "\n",
    "def calculator(number):\n",
    "    \n",
    "    factors = []\n",
    "    x = 2\n",
    "    \n",
    "    while(number > 1):\n",
    "        if(number % x == 0):\n",
    "            factors.append(x)\n",
    "            number = number / x\n",
    "        else:\n",
    "            x = x + 1\n",
    "\n",
    "    print(\"Factors: \", factors)\n",
    "\n",
    "number = 868\n",
    "calculator(number)"
   ]
  },
  {
   "cell_type": "code",
   "execution_count": 20,
   "id": "fe66dfd4",
   "metadata": {},
   "outputs": [
    {
     "name": "stdout",
     "output_type": "stream",
     "text": [
      "Factors:  2^2 * 7 * 31\n"
     ]
    }
   ],
   "source": [
    "#Factoring using SageMath factor() function.\n",
    "\n",
    "def calculator(number):\n",
    "    \n",
    "    factors = factor(number)\n",
    "    print(\"Factors: \", factors)\n",
    "\n",
    "number = 868\n",
    "calculator(number)"
   ]
  },
  {
   "cell_type": "code",
   "execution_count": 21,
   "id": "56dda790",
   "metadata": {},
   "outputs": [
    {
     "name": "stdout",
     "output_type": "stream",
     "text": [
      "Sqrts: [1002, 1712, 2477, 3187]\n"
     ]
    }
   ],
   "source": [
    "#Square roots without built-in Python or SageMath tools. \n",
    "\n",
    "def calculator(prefix, modulus):\n",
    "    \n",
    "    result = []\n",
    "    for i in range(modulus - 1):\n",
    "        if ((i**2 % modulus) ==  prefix):\n",
    "                result.append(i)\n",
    "    print(\"Sqrts:\", result)\n",
    "    \n",
    "prefix = 2833\n",
    "modulus = 4189\n",
    "calculator(prefix, modulus)"
   ]
  },
  {
   "cell_type": "code",
   "execution_count": 25,
   "id": "71629a38",
   "metadata": {},
   "outputs": [
    {
     "name": "stdout",
     "output_type": "stream",
     "text": [
      "Sqrts: [203, 10020]\n"
     ]
    }
   ],
   "source": [
    "#Square roots using SageMath sqrt() function.\n",
    "\n",
    "def calculator(prefix, modulus):\n",
    "    \n",
    "    result = []\n",
    "    sqrts = mod(prefix, modulus).sqrt(all=True)\n",
    "    for i in sqrts:\n",
    "            result.append(i)\n",
    "    print(\"Sqrts:\", result)\n",
    "    \n",
    "prefix = 317\n",
    "modulus = 10223\n",
    "calculator(prefix, modulus)"
   ]
  },
  {
   "cell_type": "code",
   "execution_count": null,
   "id": "29a52dd3",
   "metadata": {},
   "outputs": [],
   "source": [
    "#Finding a generator of a number. \n",
    "\n",
    "def calculator(number):\n",
    "    \n",
    "    generators = []\n",
    "    count = 0\n",
    "\n",
    "    for i in range (1, number):\n",
    "        value_exponent = []\n",
    "        for j in range(1, number):\n",
    "            if power_mod(i,j,number) in value_exponent:\n",
    "                break\n",
    "            else: \n",
    "                value_exponent.append(power_mod(i,j,number))\n",
    "        \n",
    "        print(\"Iteration: \", i, value_exponent)\n",
    "        value_exponent.sort()\n",
    "        if list(value_exponent) == list(range(1,number)):\n",
    "            generators.append(i)\n",
    "            count = count + 1\n",
    "\n",
    "    print(\"Generator: \", generators)\n",
    "                     \n",
    "number = 5\n",
    "calculator(number)"
   ]
  },
  {
   "cell_type": "code",
   "execution_count": 27,
   "id": "f32a1b81",
   "metadata": {},
   "outputs": [
    {
     "name": "stdout",
     "output_type": "stream",
     "text": [
      "Discrete log is:  1\n"
     ]
    }
   ],
   "source": [
    "#Calculating discrete log with generator.\n",
    "\n",
    "def calculator(generator, factor, log):\n",
    "    \n",
    "    for k in range (1, factor):\n",
    "        if (generator**k % factor == log):\n",
    "            print(\"Discrete log is: \", k)\n",
    "            break\n",
    "\n",
    "generator = 5 #Update\n",
    "factor = 3529 #Update\n",
    "log = 5 #Update\n",
    "calculator(generator, factor, log)\n",
    "\n",
    "#g^k = 5 mod p."
   ]
  },
  {
   "cell_type": "code",
   "execution_count": 7,
   "id": "50c772df",
   "metadata": {},
   "outputs": [
    {
     "name": "stdout",
     "output_type": "stream",
     "text": [
      "The sqrts of 2263 are:  [924, 1339, 2238]\n",
      "The combinations of sqrts are:  [(924, 1339), (924, 2238), (1339, 2238)]\n",
      "The GCD of ( 2263 , 2263 ) is 2263\n",
      "The GCD of ( 3162 , 2263 ) is 31\n",
      "The GCD of ( 3577 , 2263 ) is 73\n"
     ]
    }
   ],
   "source": [
    "#Using sqrts and CRT notation to calculate factors of N.\n",
    "\n",
    "from itertools import combinations\n",
    "\n",
    "def calculate_gcd(a,b):\n",
    "    \n",
    "    if a < b:\n",
    "        (a,b) = (b,a)\n",
    "\n",
    "    if(a%b) == 0:\n",
    "        return b\n",
    "    else:\n",
    "        return (calculate_gcd(b, a % b)) \n",
    "\n",
    "def calculate_combinations(sqrts, elements):\n",
    "  \n",
    "    return list(combinations(sqrts, elements))\n",
    "\n",
    "def main():\n",
    "    \n",
    "    N = 2263 #Update\n",
    "    sqrts = [924,1339,2238] #Update\n",
    "    combinations = (calculate_combinations(sqrts, 2)) \n",
    "    \n",
    "    combo1 = combinations[0] \n",
    "    combo2 = combinations[1]\n",
    "    combo3 = combinations[2]\n",
    "    \n",
    "    sum_combo1 = sum(combo1) \n",
    "    sum_combo2 = sum(combo2)\n",
    "    sum_combo3 = sum(combo3)\n",
    "\n",
    "    result1 = calculate_gcd(sum_combo1, N) \n",
    "    result2 = calculate_gcd(sum_combo2, N)\n",
    "    result3 = calculate_gcd(sum_combo3, N)\n",
    "    \n",
    "    print(\"The sqrts of\", N, \"are: \", sqrts)\n",
    "    print(\"The combinations of sqrts are: \", combinations)\n",
    "    print(\"The GCD of (\", sum_combo1, \",\", N, \") is\", result1)\n",
    "    print(\"The GCD of (\", sum_combo2, \",\", N, \") is\", result2)\n",
    "    print(\"The GCD of (\", sum_combo3, \",\", N, \") is\", result3)\n",
    "    \n",
    "main()"
   ]
  },
  {
   "cell_type": "code",
   "execution_count": null,
   "id": "de0d1cc7",
   "metadata": {},
   "outputs": [],
   "source": []
  }
 ],
 "metadata": {
  "kernelspec": {
   "display_name": "SageMath 9.5",
   "language": "sage",
   "name": "sagemath-9.5"
  },
  "language_info": {
   "codemirror_mode": {
    "name": "ipython",
    "version": 3
   },
   "file_extension": ".py",
   "mimetype": "text/x-python",
   "name": "python",
   "nbconvert_exporter": "python",
   "pygments_lexer": "ipython3",
   "version": "3.9.9"
  }
 },
 "nbformat": 4,
 "nbformat_minor": 5
}
