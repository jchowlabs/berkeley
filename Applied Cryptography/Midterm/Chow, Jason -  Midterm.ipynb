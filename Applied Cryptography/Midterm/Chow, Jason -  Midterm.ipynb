{
 "cells": [
  {
   "cell_type": "code",
   "execution_count": 19,
   "metadata": {},
   "outputs": [],
   "source": [
    "####################################################\n",
    "# The following functions are written and functional \n",
    "# They are for your use\n",
    "####################################################\n",
    "\n",
    "\n",
    "# function to take ascii plaintext and convert to decimal value message\n",
    "# no lowercase letters allowed\n",
    "def encode_message(message):\n",
    "    encoded_message = 0\n",
    "\n",
    "    for char in message:\n",
    "        encoded_message = 100*encoded_message + ord(char)\n",
    "\n",
    "    return encoded_message\n",
    "\n",
    "\n",
    "# function to take decimal value message and convert to ascii plaintext\n",
    "# should return only uppercase letters\n",
    "def decode_message(message):\n",
    "    decoded_message = \"\"\n",
    "\n",
    "    while message > 0:\n",
    "        decoded_message = chr(message%100) + decoded_message\n",
    "        message = message//100\n",
    "\n",
    "    return decoded_message\n",
    "\n",
    "\n",
    "# here is a function called hash_message() which takes as an argument a\n",
    "# string message and returns a hexadecimal hash\n",
    "def hash_message(message):\n",
    "    import hashlib                        # gives us access to sha256()\n",
    "    hash = hashlib.sha256()               # instantiates a sha256 object\n",
    "    hash.update(message.encode('UTF-8'))  # creates hash of the message\n",
    "    return hash.hexdigest()               # returns hexadecimal value\n",
    "\n",
    "\n",
    "# Definitions\n",
    "Pa = 2**1279 - 1\n",
    "Qa = 2**521 - 1\n",
    "Ea = 601\n",
    "Da = inverse_mod(Ea, (Pa-1)*(Qa-1))\n",
    "Na = Pa*Qa\n",
    "\n",
    "Pb = 2**607 - 1\n",
    "Qb = 2**2203 - 1\n",
    "Eb = 985\n",
    "Db = inverse_mod(Eb, (Pb-1)*(Qb-1))\n",
    "Nb = Pb*Qb"
   ]
  },
  {
   "cell_type": "code",
   "execution_count": 7,
   "metadata": {},
   "outputs": [
    {
     "name": "stdout",
     "output_type": "stream",
     "text": [
      "The ciphertext is:  662294459324651830337558874956636076863158783974040044928189884991149734067007616096892249170550425408708860652567781738542668966463116739569636413600025688727394196185115784490499124842390357948424904050544885988583237373956902518828136874915531555730974907333533338722769310603131811959552190915744857907279318063210392709641039560769862346806918722726403993562370545980593496764462675924395394228680381942255765145502525859102364237667016254721978539762191694773526769670470722048704939522654839399469772089680497208958163574854602578505743008483822021876319003142098784273917348774755764831516579176600084083422948784682129251080460087400236048030654843752888870939789879452888297936951631314524992068334095398515711742141252618651466940887392642225753286742035680272179758911908769702324208016473913776151513776308048247123648016972995804777\n"
     ]
    }
   ],
   "source": [
    "# Part a: What ciphertext does Alice send to Bob?\n",
    "message = \"HOW CRUEL IS THIS CRYPTO TEACHER, SCALE OF 1 - 10?\"\n",
    "\n",
    "# Comment: First encode message, then encrypt using Bob's public key (C = m^e mod N).\n",
    "alice_encoded_message = encode_message(message)\n",
    "alice_message_ciphertext = power_mod(alice_encoded_message, Eb, Nb)\n",
    "print(\"The ciphertext is: \", alice_message_ciphertext)"
   ]
  },
  {
   "cell_type": "code",
   "execution_count": 21,
   "metadata": {},
   "outputs": [
    {
     "name": "stdout",
     "output_type": "stream",
     "text": [
      "Bob's digital signature is:  61539616453992862473029672949733791603750811988525633545961988013021132196001555736299524642186401153643142816483207146381986978033404502813389840824944772352928913147735303913881688030183219182139691061807286993962071372243356233766783006355653480800667998097633534629461787073685298496773312567113435994037309720357624949633545213694262298407841699540004456085192542959337467011162444067852489056836828392114066447335673160396734156287547447635392462216922506379668748424114988815566646682866527825235797545603504669634357082863308365761586276306710943065373869668193973453777717676811527992969563072475680707366688108490966760847923421013062052955924071306139368520646084713383090164018986949575724310283796998734399800377300700828472639080781017734153861942393503909170108204243670816282212713833100085402513006618754632817983130620110621093\n"
     ]
    }
   ],
   "source": [
    "# Part b: What is Bob's digital signature of this message?\n",
    "message = \"99 mod 10\"\n",
    "\n",
    "# Comments: First encode message, then sign with Bob's signing key d (S = D^d mod N).\n",
    "bob_message_encoded = encode_message(message)\n",
    "bob_digital_signature = power_mod(bob_message_encoded, Db, Nb)\n",
    "print(\"Bob's digital signature is: \", bob_digital_signature)"
   ]
  },
  {
   "cell_type": "code",
   "execution_count": 20,
   "metadata": {},
   "outputs": [
    {
     "name": "stdout",
     "output_type": "stream",
     "text": [
      "Is the signature value (True/False):  False\n"
     ]
    }
   ],
   "source": [
    "# Part c: Bob receives this message-signature pair from Alice, but is suspicious. Test if the signature is correct!\n",
    "message = \"I THINK CRYPTO IS MY FAVORITE CLASS EVER!\" \n",
    "signature = 227588880000857241938526911788931147173126933016453506999397215142985010216788320400\n",
    "\n",
    "# Comments: Bob first hashes Alice's message, then uses Alice's e to validate if signatures matche. \n",
    "bob_hashes_message = hash_message(message)\n",
    "decrypted_signature = power_mod(signature, Ea, Na)\n",
    "hash = hex(decrypted_signature)[2:]\n",
    "print(\"Is the signature value (True/False): \", str(bob_hashes_message == hash))\n"
   ]
  },
  {
   "cell_type": "code",
   "execution_count": 14,
   "metadata": {},
   "outputs": [
    {
     "name": "stdout",
     "output_type": "stream",
     "text": [
      "The message is:  GOOD LUCK!\n"
     ]
    }
   ],
   "source": [
    "# Part d: Bob sends the following ciphertext to Alice; what does the message say?\n",
    "c = 55324233754406390193812735939563715851362376661648686841596683188189534303750907085271575451666079664345992702321416786098445638620993268611923004850001094915823162989796951694687313926801025713800331828810767086400550388310132482903965337968583013971793294500916420059298779049772607877656478422093475935073233544918708849987744480378320188342946968770957007465921656789698338929893049382839588169135857217468911556889274285193060989502535736481580098983553612821538496144012631225622347319518270685620105054167367171011651621107595926776299\n",
    "\n",
    "# Comments: First decrypt message with Alice's private key, then decode to readable text. \n",
    "decrypted_message = power_mod(c, Da, Na)\n",
    "plaintext_message = decode_message(decrypted_message)\n",
    "print(\"The message is: \", plaintext_message)\n"
   ]
  }
 ],
 "metadata": {
  "kernelspec": {
   "display_name": "SageMath 9.5",
   "language": "sage",
   "name": "sagemath-9.5"
  },
  "language_info": {
   "codemirror_mode": {
    "name": "ipython",
    "version": 3
   },
   "file_extension": ".py",
   "mimetype": "text/x-python",
   "name": "python",
   "nbconvert_exporter": "python",
   "pygments_lexer": "ipython3",
   "version": "3.9.9"
  }
 },
 "nbformat": 4,
 "nbformat_minor": 4
}
