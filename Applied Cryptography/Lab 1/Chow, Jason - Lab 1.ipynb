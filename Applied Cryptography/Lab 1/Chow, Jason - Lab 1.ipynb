{
 "cells": [
  {
   "cell_type": "markdown",
   "id": "cd431293",
   "metadata": {},
   "source": [
    "# Lab 1 -- RSA basics and getting started\n",
    "This lab will take you through the basics of encryption and decryption of RSA\n",
    "\n",
    "There will be quite a few things we will need to talk about, so get prepared and get excited!\n",
    "\n",
    "This, and subsequent labs, will try to work from simpler concepts to more complex.  One problem we find with working with RSA is you need to have a strong understanding of multiple concepts, some of the concepts will be foreign to you unless you were a double Math / CompSci major.\n",
    "\n",
    "This is good news / bad news, you may not be familiar with all the concepts, but you should be familiar with some.  If you feel unfamiliar with none, then with a small amount of catch up you should be right on par.\n",
    "\n",
    "This lab will cover some ancillary ideas which will lead to everything coming together in the end.\n",
    "\n",
    "Of note, this lab is intended to cover the implementation of RSA, so you can see it work in practice.  Our hope is that we will start with small easy to handle numbers, and you can see that the concepts aren't inherently difficult.  We will add increasingly larger numbers and increasingly professional implementations, and you should see that nothing really changed except for the sizes of numbers.  But since we are using a computer the size of the number is immaterial to us.  \n",
    "{We use SageMath since the size of the number is hugely material to the computer! And we can easily overrun memory if we aren't careful}\n",
    "\n",
    "***NOTE***  \n",
    "*The material and functions contained within will be required for the midterm.*"
   ]
  },
  {
   "cell_type": "markdown",
   "id": "ca9357fc",
   "metadata": {},
   "source": [
    "### RSA ToDo List\n",
    "Alice:  \n",
    "1. Declaring a _String_ to be encrypted  \n",
    "2. _Encoding_ the string so it can be encrypted  \n",
    "3. _Encrypting_ the encoding to get ciphertext  \n",
    "\n",
    "Bob:  \n",
    "1. _Decrypting_ ciphertext to get encoding  \n",
    "2. _Decoding_ encoding to get plaintext  "
   ]
  },
  {
   "cell_type": "markdown",
   "id": "970888cf",
   "metadata": {},
   "source": [
    "### How does RSA Work?\n",
    "RSA uses some \"simple\" mathematical operations for encryption and decryption.\n",
    "The first operation is exponentiation.\n",
    "The second operation is reduction by modulus.\n",
    "\n",
    "When we say exponentiation we are quite simply taking a number, $m$, and raising it to a power, $e$, so we get $m^e$\n",
    "\n",
    "The nomenclature:  \n",
    "$m$ is the message to be encrypted.  (In this class this will need to be the encoded plaintext, but more on that later.)  \n",
    "$e$ is an encryption exponent.  This is also called the public key, since $e$ will be made publicly available.  \n",
    "$d$ is a decryption exponent.  This is also called the private key, since no one except the keyholder should be able to decrypt a transmisison.  "
   ]
  },
  {
   "cell_type": "code",
   "execution_count": 7,
   "id": "19325e4d",
   "metadata": {},
   "outputs": [],
   "source": [
    "################\n",
    "# DATA DATA DATA\n",
    "################\n",
    "\n",
    "\n",
    "# for now we will use these values for RSA.\n",
    "# I am including quite a few values here, in case you want to explore\n",
    "# the only ones we will use now are Ea, Da, and Na\n",
    "\n",
    "# Alice data\n",
    "Pa = 2**107 - 1\n",
    "Qa = 2**607 - 1\n",
    "Na = Pa*Qa                    # Alice modulus\n",
    "phi_Na = (Pa - 1)*(Qa - 1)\n",
    "Ea = 101                      # Alice encryption exponent\n",
    "Da = inverse_mod(Ea, phi_Na)  # Alice decryption exponent\n",
    "\n",
    "# Bob data\n",
    "Pb = 2**521 - 1\n",
    "Qb = 2**127 - 1 \n",
    "Nb = Pb*Qb                    # Bob modulus\n",
    "phi_Nb = (Pb - 1)*(Qb - 1)\n",
    "Eb = 173                      # Bob encryption exponent\n",
    "Db = inverse_mod(Eb, phi_Nb)  # Bob decryption exponent\n",
    "\n",
    "# a standard RSA key will have two parts, a public and private part\n",
    "# here the public key will be the encryption exponent, and the modulus\n",
    "# <Ea, Na> is the public key of Alice\n",
    "# the private key Alice doesn't tell anyone, is <Da, Na>"
   ]
  },
  {
   "cell_type": "markdown",
   "id": "8e89d360",
   "metadata": {},
   "source": [
    "### RSA ToDo List\n",
    "Alice:  \n",
    "1. **Declaring a _String_ to be encrypted**\n",
    "2. _Encoding_ the string so it can be encrypted  \n",
    "3. _Encrypting_ the encoding to get ciphertext  \n",
    "\n",
    "Bob:  \n",
    "1. _Decrypting_ ciphertext to get encoding  \n",
    "2. _Decoding_ encoding to get plaintext  "
   ]
  },
  {
   "cell_type": "markdown",
   "id": "0f2144a2",
   "metadata": {},
   "source": [
    "Since we need to perform math to encrypt and decrypt in RSA, we need to use numbers.  \n",
    "Say I want to transmit a secret message like, `\"Have a nice day.\"`  \n",
    "Well RSA says we simply raise this message to an encryption exponent.  Does it make sense to do this then: \n",
    "\n",
    "$\\big(\"Have\\ a\\ nice\\ day.\"\\big)^e$  \n",
    "\n",
    "Hopefully not.  We need to convert this string `\"Have a nice day.\"` into an integer value of some sort so using an exponent makes sense..  This converstion is called encoding.  \n",
    "Encoding occurs all the time in computers, ASCII is a common encoding, although for our purposes straight ASCII can be problematic.  \n",
    "In fact, there are little problems which arise all the time when trying to find a good encoding scheme.  \n",
    "We will be playing with `openssl` later, and it uses a common encoding called `-base64`.\n",
    "\n",
    "For now we will make it easy for you.  I have devised a proprietary encoding called W202.  You can use that for now by calling the function `W202_encode` and `W202_decode`.  These functions translate between strings and integers.  There is a catch though.  ***You cannot use lowercase letters with these functions.*** I could build that functionality in, but it's going to overcomplicate what is supposed to be a simplified scenario."
   ]
  },
  {
   "cell_type": "markdown",
   "id": "e9379917",
   "metadata": {},
   "source": [
    "### RSA ToDo List\n",
    "Alice:  \n",
    "1. Declaring a _String_ to be encrypted\n",
    "2. **_Encoding_ the string so it can be encrypted**  \n",
    "3. _Encrypting_ the encoding to get ciphertext  \n",
    "\n",
    "Bob:  \n",
    "1. _Decrypting_ ciphertext to get encoding  \n",
    "2. _Decoding_ encoding to get plaintext "
   ]
  },
  {
   "cell_type": "code",
   "execution_count": 8,
   "id": "5882b50e",
   "metadata": {},
   "outputs": [],
   "source": [
    "####################################################\n",
    "# The following functions are written and functional \n",
    "# They are for your use\n",
    "####################################################\n",
    "\n",
    "\n",
    "# function to take ascii plaintext and convert to decimal value message\n",
    "# no lowercase letters allowed\n",
    "def encode_message(message):\n",
    "    encoded_message = 0\n",
    "\n",
    "    for char in message:\n",
    "        encoded_message = 100*encoded_message + ord(char)\n",
    "\n",
    "    return encoded_message\n",
    "\n",
    "# function to take decimal value message and convert to ascii plaintext\n",
    "# should return only uppercase letters\n",
    "def decode_message(message):\n",
    "    decoded_message = \"\"\n",
    "\n",
    "    while message > 0:\n",
    "        decoded_message = chr(message%100) + decoded_message\n",
    "        message = message//100\n",
    "\n",
    "    return decoded_message\n"
   ]
  },
  {
   "cell_type": "code",
   "execution_count": 9,
   "id": "9aea2d0e",
   "metadata": {},
   "outputs": [
    {
     "name": "stdout",
     "output_type": "stream",
     "text": [
      "<class 'str'>\n",
      "<class 'sage.rings.integer.Integer'>\n",
      "\n",
      "HELLO WORLD\n",
      "7269767679328779827668\n"
     ]
    }
   ],
   "source": [
    "################\n",
    "# DEMO DEMO DEMO\n",
    "################\n",
    "\n",
    "\n",
    "# Let's check to see if the encoding works for us\n",
    "\n",
    "# make a string\n",
    "message = \"HELLO WORLD\"\n",
    "\n",
    "# let's see what type of varialbe message is\n",
    "print(type(message))\n",
    "\n",
    "# You can see in the output that message is of the \n",
    "# class 'str' which means string.  Woot.\n",
    "\n",
    "# now let's encode and turn it into an integer\n",
    "encoded_message = encode_message(message)\n",
    "\n",
    "# check type\n",
    "print(type(encoded_message))\n",
    "\n",
    "# print message and encoded_message together\n",
    "print()\n",
    "print(message)\n",
    "print(encoded_message)"
   ]
  },
  {
   "cell_type": "markdown",
   "id": "51255141",
   "metadata": {},
   "source": [
    "Just to talk about the encoding a bit.  \n",
    "The simplified code I used finds the two digit ascii value.  You can see this if you look up an ascii table, which gives this type of encoding.  \n",
    "\n",
    "For instance, the letter `H` has an ascii value of 72. The `E` has a value of 69, `L` a value of 76, etc...  \n",
    "\n",
    "In this way we can convert back and forth between this integer and a readable string.\n",
    "\n",
    "*TECHNICAL NOTE*. \n",
    "It is important to check your encoding against your data types.  This is supposed to be a simplified example, but mistakes are still possible.  So, for our purposes you should always be using a _string_ as your message.  For our encoding it is just fine to use integers and numbers all you want.  So you can encode the string \"1232221\" just fine.  But you won't be able to encode an integer valued at 1232221. You can mix and match numbers in your string also, for instance you can say \"HELLO, THE SECRET MESSAGE IS 1232221, AND I AM A SPY!\". This is fine.  Enjoy!"
   ]
  },
  {
   "cell_type": "code",
   "execution_count": 15,
   "id": "f0431c90",
   "metadata": {},
   "outputs": [
    {
     "name": "stdout",
     "output_type": "stream",
     "text": [
      "THE MATH BEHIND CRYPTOGRAPHY IS AWESOME\n",
      "847269327765847232666972737868326782898084797182658072893273833265876983797769\n",
      "\n",
      "STARTING OPEN MICS PODCAST SOON\n",
      "83846582847378713279806978327773678332807968676583843283797978\n",
      "\n",
      "THE IAM SLACK CHANNEL IS GREAT\n",
      "847269327365773283766567753267726578786976327383327182696584\n",
      "\n",
      "I LOVE MACARONI AND CHEESE\n",
      "7332767986693277656765827978733265786832677269698369\n",
      "\n",
      "I LOVE SAMOSAS AND LASSI\n",
      "733276798669328365777983658332657868327665838373\n",
      "\n",
      "I LOVE KIM CHI JI GAE\n",
      "733276798669327573773267727332747332716569\n"
     ]
    }
   ],
   "source": [
    "################\n",
    "# YOUR WORK HERE\n",
    "################\n",
    "\n",
    "\n",
    "# practice encoding some strings yourself\n",
    "# create 3 messages below, and encode them.\n",
    "# print all the outputs in a professional manner.\n",
    "\n",
    "jason_one = \"THE MATH BEHIND CRYPTOGRAPHY IS AWESOME\"\n",
    "jason_two = \"STARTING OPEN MICS PODCAST SOON\"\n",
    "jason_three = \"THE IAM SLACK CHANNEL IS GREAT\"\n",
    "\n",
    "encoded_jason_one = encode_message(jason_one)\n",
    "encoded_jason_two = encode_message(jason_two)\n",
    "encoded_jason_three = encode_message(jason_three)\n",
    "\n",
    "print(jason_one)\n",
    "print(encoded_jason_one)\n",
    "print()\n",
    "print(jason_two)\n",
    "print(encoded_jason_two)\n",
    "print()\n",
    "print(jason_three)\n",
    "print(encoded_jason_three)\n",
    "\n",
    "# finally encode these three messages\n",
    "message_one = 'I LOVE MACARONI AND CHEESE'\n",
    "message_two = 'I LOVE SAMOSAS AND LASSI'\n",
    "message_three = 'I LOVE KIM CHI JI GAE'\n",
    "\n",
    "encoded_message_one = encode_message(message_one)\n",
    "encoded_message_two = encode_message(message_two)\n",
    "encoded_message_three = encode_message(message_three)\n",
    "\n",
    "print()\n",
    "print(message_one)\n",
    "print(encoded_message_one)\n",
    "print()\n",
    "print(message_two)\n",
    "print(encoded_message_two)\n",
    "print()\n",
    "print(message_three)\n",
    "print(encoded_message_three)\n",
    "\n",
    "# take those three messages and print them an their \n",
    "# corresponding encoding in a professional manner"
   ]
  },
  {
   "cell_type": "markdown",
   "id": "85c3fe60",
   "metadata": {},
   "source": [
    "### RSA ToDo List\n",
    "Alice:  \n",
    "1. Declaring a _String_ to be encrypted\n",
    "2. _Encoding_ the string so it can be encrypted  \n",
    "3. **_Encrypting_ the encoding to get ciphertext**  \n",
    "\n",
    "Bob:  \n",
    "1. _Decrypting_ ciphertext to get encoding  \n",
    "2. _Decoding_ encoding to get plaintext "
   ]
  },
  {
   "cell_type": "markdown",
   "id": "d40d2603",
   "metadata": {},
   "source": [
    "Let's do some encrypting.  After all of this setup, the actual encryption is quite straightforward.  \n",
    "\n",
    "RSA is executed by taking the message and raising it to an exponent, and finally reducing by a modulus.  \n",
    "\n",
    "If we let m be the message (encoded already so it is integer valued), then raising it to an exponent is $m^e$. \n",
    "\n",
    "Finally, reducing by a modulus can be accomplished, in general by the modulus operator %, so we can say `m^e%N`.  \n",
    "\n",
    "There is one problem with this.  We are using sagemath kernel (or should be, check your kernel right now!) which allows us access to faster and better processes.  So instead of the slow and error prone `m^e%N` we will use the sagemath `power_mod()` function.  This takes a value, raises it to a power, and finally simplifies by a modulus... exactly what we want."
   ]
  },
  {
   "cell_type": "code",
   "execution_count": 16,
   "id": "646c9a5b",
   "metadata": {},
   "outputs": [
    {
     "name": "stdout",
     "output_type": "stream",
     "text": [
      "ciphertext: \n",
      "1037069157757956994625823706189999461002081547854960463033396282491525632562203613727527764497625554799688861472050897908386422690363305201977550903757763407511029533346932195064195005692467419473\n"
     ]
    }
   ],
   "source": [
    "################\n",
    "# DEMO DEMO DEMO\n",
    "################\n",
    "\n",
    "\n",
    "# Alice wants to send a message to Bob\n",
    "# she's encocded it already as encoded_message above\n",
    "# since she is sending a message to Bob, she will use Bob's \n",
    "# public encryption exponent, Eb, and his public modulus Nb\n",
    "\n",
    "ciphertext = power_mod(encoded_message, Eb, Nb)\n",
    "\n",
    "# what does the ciphertext look like?\n",
    "# well we expect it to be a large integer\n",
    "print(\"ciphertext: \")\n",
    "print(ciphertext)"
   ]
  },
  {
   "cell_type": "markdown",
   "id": "29111fbf",
   "metadata": {},
   "source": [
    "### RSA ToDo List\n",
    "Alice:  \n",
    "1. Declaring a _String_ to be encrypted\n",
    "2. _Encoding_ the string so it can be encrypted  \n",
    "3. _Encrypting_ the encoding to get ciphertext  \n",
    "\n",
    "Bob:  \n",
    "1. **_Decrypting_ ciphertext to get encoding**  \n",
    "2. _Decoding_ encoding to get plaintext "
   ]
  },
  {
   "cell_type": "markdown",
   "id": "fc4f3f92",
   "metadata": {},
   "source": [
    "Now Alice has sent an encrypted message to Bob.  This message can be intercepted and no one will be able to read it unless they have access to Bob's private key, Db, and Bob's modulus Nb.\n",
    "\n",
    "So let's decrypt it!\n",
    "\n",
    "RSA decryption is as simple as taking the ciphertext and raising it to the decryption exponent and simplifying by the modulus.\n",
    "\n",
    "We use power_mod() again.  Super easy.  Just remember that this will return the encoded message, so that will be the final step."
   ]
  },
  {
   "cell_type": "code",
   "execution_count": 17,
   "id": "7b3725d0",
   "metadata": {},
   "outputs": [
    {
     "name": "stdout",
     "output_type": "stream",
     "text": [
      "decrypted_message:\n",
      "7269767679328779827668\n"
     ]
    }
   ],
   "source": [
    "# decrypt ciphertext received from Alice\n",
    "decrypted_message = power_mod(ciphertext, Db, Nb)\n",
    "\n",
    "# what does the decrypted (but not decoded) message look like?\n",
    "print(\"decrypted_message:\")\n",
    "print(decrypted_message)\n",
    "\n",
    "# does this look like the encoded_message Alice encrypted?"
   ]
  },
  {
   "cell_type": "markdown",
   "id": "f0f92ac1",
   "metadata": {},
   "source": [
    "### RSA ToDo List\n",
    "Alice:  \n",
    "1. Declaring a _String_ to be encrypted\n",
    "2. _Encoding_ the string so it can be encrypted  \n",
    "3. _Encrypting_ the encoding to get ciphertext  \n",
    "\n",
    "Bob:  \n",
    "1. _Decrypting_ ciphertext to get encoding  \n",
    "2. **_Decoding_ encoding to get plaintext** "
   ]
  },
  {
   "cell_type": "code",
   "execution_count": 18,
   "id": "0f2c4068",
   "metadata": {},
   "outputs": [
    {
     "name": "stdout",
     "output_type": "stream",
     "text": [
      "HELLO WORLD\n"
     ]
    }
   ],
   "source": [
    "# let's decode this message and find out what Alice has to say!\n",
    "plaintext_message = decode_message(decrypted_message)\n",
    "print(plaintext_message)"
   ]
  },
  {
   "cell_type": "markdown",
   "id": "cd69998f",
   "metadata": {},
   "source": [
    "Great, now it's time to try yourself!"
   ]
  },
  {
   "cell_type": "code",
   "execution_count": 19,
   "id": "a3ae33d6",
   "metadata": {},
   "outputs": [
    {
     "name": "stdout",
     "output_type": "stream",
     "text": [
      "JASON CHOW SPRING 2022\n"
     ]
    }
   ],
   "source": [
    "# 1 -- create a message you want to send to Bob\n",
    "# call it my_message\n",
    "my_message = \"JASON CHOW SPRING 2022\"\n",
    "\n",
    "# print my_message\n",
    "print(my_message)"
   ]
  },
  {
   "cell_type": "code",
   "execution_count": 20,
   "id": "ae0eab87",
   "metadata": {},
   "outputs": [
    {
     "name": "stdout",
     "output_type": "stream",
     "text": [
      "74658379783267727987328380827378713250485050\n"
     ]
    }
   ],
   "source": [
    "# 2 -- encode the string, save the encoding as my_encoded\n",
    "my_encoded = encode_message(my_message)\n",
    "\n",
    "# print my_encoded\n",
    "print(my_encoded)"
   ]
  },
  {
   "cell_type": "code",
   "execution_count": 21,
   "id": "2de186c3",
   "metadata": {},
   "outputs": [
    {
     "name": "stdout",
     "output_type": "stream",
     "text": [
      "864050619642996868064972675637370284090193239839759284072845909300152742818343576595221382009302822603865714842694175736240459984360506456031476879308948324721763317747466473095236758334673475669\n"
     ]
    }
   ],
   "source": [
    "# 3 -- encrypt the encoding, save it as my_ciphertext\n",
    "my_ciphertext = power_mod(my_encoded, Eb, Nb)\n",
    "\n",
    "# print my_ciphertext\n",
    "print(my_ciphertext)"
   ]
  },
  {
   "cell_type": "code",
   "execution_count": 22,
   "id": "5bcc555b",
   "metadata": {},
   "outputs": [
    {
     "name": "stdout",
     "output_type": "stream",
     "text": [
      "74658379783267727987328380827378713250485050\n"
     ]
    }
   ],
   "source": [
    "# 4 -- now act like bob and verify that he can read your message\n",
    "# decrypt the message and save it as bob_encoded\n",
    "bob_encoded = power_mod(my_ciphertext, Db, Nb)\n",
    "\n",
    "# print bob_encoded\n",
    "print(bob_encoded)"
   ]
  },
  {
   "cell_type": "code",
   "execution_count": 23,
   "id": "f043f8ae",
   "metadata": {},
   "outputs": [
    {
     "name": "stdout",
     "output_type": "stream",
     "text": [
      "JASON CHOW SPRING 2022\n"
     ]
    }
   ],
   "source": [
    "# 5 -- finally act like bob and decode the message\n",
    "jason_message = decode_message(bob_encoded)\n",
    "\n",
    "# print decoded message\n",
    "print(jason_message)"
   ]
  },
  {
   "cell_type": "markdown",
   "id": "31191f67",
   "metadata": {},
   "source": [
    "# Digital Signatures\n",
    "Let us now use these RSA principles to implement RSA digital signatures.  \n",
    "At this point digital signatures should be pretty straightforward. But there are a few things to pay attention to.\n",
    "\n",
    "First off, to create a digital signature you will need to take the hash of your message.  \n",
    "Finally you will encrypt that message with your private key.  "
   ]
  },
  {
   "cell_type": "markdown",
   "id": "d4e06a32",
   "metadata": {},
   "source": [
    "**note**. \n",
    "Hashes here can be tricky because you need to focus on the datatype.  A hash will commonly be viewed as a hexadecimal value, meaning a number which uses 0-9 as well as letters a-f.  If we are comparing hashes, we usually want to print the values out, and printing a hash is done as a hexadecimal number, or sometimes it's convenient to print as a string.  Just be careful and pay attention to the details.  \n",
    "Like before, if we are going to encrypt or decrypt, or use `power_mod()` the value needs to be a decimal integer."
   ]
  },
  {
   "cell_type": "code",
   "execution_count": 24,
   "id": "096c53eb",
   "metadata": {},
   "outputs": [],
   "source": [
    "##################################################\n",
    "# The following function is written and functional \n",
    "# It is for your use\n",
    "##################################################\n",
    "\n",
    "\n",
    "# here is a function called hash_message() which takes as an argument a\n",
    "# string message and returns a hexadecimal hash\n",
    "\n",
    "def hash_message(message):\n",
    "    import hashlib                        # gives us access to sha256()\n",
    "    hash = hashlib.sha256()               # instantiates a sha256 object\n",
    "    hash.update(message.encode('UTF-8'))  # creates hash of the message\n",
    "    return hash.hexdigest()               # returns hexadecimal value"
   ]
  },
  {
   "cell_type": "code",
   "execution_count": 25,
   "id": "290a8931",
   "metadata": {},
   "outputs": [
    {
     "name": "stdout",
     "output_type": "stream",
     "text": [
      "This is what a hash of the message looks like: \n",
      "\t9eee1efc448603fbe24842e54dbe49a6cae3e45165ae1785243261a1743b93d8\n",
      "\n",
      "hash_int: \n",
      "\t71886153531086675310348136005252694423735655382735726996747841801751726101464\n",
      "\n",
      "digital signature: \n",
      "\t46518795071408048579349189745128340929985898733161326139643286942902994811340532978293103660495936442202571297708543338271348674374492892927917995460537465463100053814447992925617416935116658700694542463649554783735\n"
     ]
    }
   ],
   "source": [
    "# create a message\n",
    "message = \"THIS IS AN ENCRYPTED MESSAGE, BUT I ALSO WANT TO HAVE A DIGITAL SIGNATURE\"\n",
    "hash = hash_message(message)\n",
    "print(\"This is what a hash of the message looks like: \\n\\t\" + str(hash))\n",
    "print()\n",
    "\n",
    "# but to create a digital signature we need to apply a private exponent\n",
    "# so we change this hexadecimal value into a decimal value \n",
    "# use int() function with hash, and tell it that you are using base 16\n",
    "hash_int = int(hash, 16)\n",
    "print(\"hash_int: \\n\\t\" + str(hash_int))\n",
    "print()\n",
    "\n",
    "# you can see that you have a long integer now!\n",
    "# so Alice's the digital signature of this message is\n",
    "digital_signature = power_mod(hash_int, Da, Na)\n",
    "print(\"digital signature: \\n\\t\" + str(digital_signature))"
   ]
  },
  {
   "cell_type": "markdown",
   "id": "43c3050a",
   "metadata": {},
   "source": [
    "### How can you verify a digital signature?\n",
    "Well if Bob receives this digital signature from Alice, he will also receive the message from her.  \n",
    "So Bob can use sha256 to hash the message he receives.  \n",
    "Finally he can compare that hash to the one he receives from Alice, once he'd decrypted her hash."
   ]
  },
  {
   "cell_type": "code",
   "execution_count": 26,
   "id": "5281656c",
   "metadata": {},
   "outputs": [
    {
     "name": "stdout",
     "output_type": "stream",
     "text": [
      "9eee1efc448603fbe24842e54dbe49a6cae3e45165ae1785243261a1743b93d8\n",
      "9eee1efc448603fbe24842e54dbe49a6cae3e45165ae1785243261a1743b93d8\n",
      "It is__ True __the signature is valid\n"
     ]
    }
   ],
   "source": [
    "################\n",
    "# DEMO DEMO DEMO\n",
    "################\n",
    "\n",
    "\n",
    "# Alice has sent Bob message from the previous codeblock and digital_signature\n",
    "# Since Bob has received message he can quickly calculate the hash for himself\n",
    "bob_hashed = hash_message(message)\n",
    "\n",
    "# Bob can decrypt the digital signature from alice quickly using her public key\n",
    "decrypted_signature = power_mod(digital_signature, Ea, Na)\n",
    "\n",
    "# Bob needs to convert back to a hexadecimal value from an integer too\n",
    "# this allows the hash to look like a hash, since they are hex values\n",
    "hash = hex(decrypted_signature)[2:]     # the [2:] is a formatting gimmick\n",
    "\n",
    "# finally Bob wants to validate that the hash he computed, bob_hashed\n",
    "# matched the hash Alice sent\n",
    "print(bob_hashed)\n",
    "print(hash)\n",
    "\n",
    "print(\"It is__ \" + str((bob_hashed == hash)) + \" __the signature is valid\")"
   ]
  },
  {
   "cell_type": "code",
   "execution_count": 27,
   "id": "086c5363",
   "metadata": {},
   "outputs": [],
   "source": [
    "################\n",
    "# DATA DATA DATA\n",
    "################\n",
    "\n",
    "\n",
    "####################################\n",
    "# Use the following RSA information:\n",
    "####################################\n",
    "\n",
    "# Alice data\n",
    "Pa = 2**107 - 1\n",
    "Qa = 2**607 - 1\n",
    "Na = Pa*Qa                    # Alice modulus\n",
    "phi_Na = (Pa - 1)*(Qa - 1)\n",
    "Ea = 101                      # Alice encryption exponent\n",
    "Da = inverse_mod(Ea, phi_Na)  # Alice decryption exponent\n",
    "\n",
    "# Bob data\n",
    "Pb = 2**521 - 1\n",
    "Qb = 2**127 - 1 \n",
    "Nb = Pb*Qb                    # Bob modulus\n",
    "phi_Nb = (Pb - 1)*(Qb - 1)\n",
    "Eb = 173                      # Bob encryption exponent\n",
    "Db = inverse_mod(Eb, phi_Nb)  # Bob decryption exponent"
   ]
  },
  {
   "cell_type": "markdown",
   "id": "cfe4112b",
   "metadata": {},
   "source": [
    "Take the message `I SPY WITH MY LITTLE EYE...`  \n",
    "If Alice encrypts this message for Bob, then what is the ciphertext?  \n",
    "If Alice then signs the message for Bob, then what is the digital signature?  \n"
   ]
  },
  {
   "cell_type": "code",
   "execution_count": 54,
   "id": "1cd405e2",
   "metadata": {},
   "outputs": [
    {
     "name": "stdout",
     "output_type": "stream",
     "text": [
      "The ciphertext is: \n",
      "53742469989810864839181660204999891446353054564426860900441023292868223213456660042471628938539072827970949872990686245480983046461079727964706674977227138481903057034826921531390485925416961723\n",
      "\n",
      "Alice's digital signature is: \n",
      "862950513856659056935532167585793266547447251155284967436358471152599094486060680627608115303119589152310657900870990695725745360684848237017506700575054805926766548601217385293511016443292725845886536398545483040\n"
     ]
    }
   ],
   "source": [
    "#Alice's message encoded and encrypted with Bob's public key and modulus.\n",
    "alice_message = \"I SPY WITH MY LITTLE EYE...\"\n",
    "alice_message_encoded = encode_message(alice_message)\n",
    "alice_ciphertext = power_mod(alice_message_encoded, Eb, Nb)\n",
    "print(\"The ciphertext is: \")\n",
    "print(alice_ciphertext)\n",
    "print()\n",
    "\n",
    "#Alice's digital signature.\n",
    "alice_hashed = hash_message(alice_message)\n",
    "alice_hash_int = int(alice_hashed, 16)\n",
    "alice_digital_signature = power_mod(alice_hash_int, Da, Na)\n",
    "print(\"Alice's digital signature is: \")\n",
    "print(alice_digital_signature)"
   ]
  },
  {
   "cell_type": "markdown",
   "id": "08ba66b0",
   "metadata": {},
   "source": [
    "Take the message `MY SPY EYE SPIES LITTLE FLIES!`  \n",
    "If Bob encrypts this message for Alice, what is the ciphertext?  \n",
    "If Bob then signs the message for Alice, what is the digital signature  "
   ]
  },
  {
   "cell_type": "code",
   "execution_count": 51,
   "id": "e407a026",
   "metadata": {},
   "outputs": [
    {
     "name": "stdout",
     "output_type": "stream",
     "text": [
      "The ciphertext is: \n",
      "70605676389401761195232655159321554409289827427935280863828631557646279530147951672632630563441231705133487794101193940636829779794821324378149918142485466425174391627121380644768290803372381627775525371562907993313\n",
      "\n",
      "Bob's digital signature is: \n",
      "801645054437377253503116839794451716866122206541689623408048859211978714539324737877521640425587421546150352885614516424444611827656842950498919288976780210109807283728104369438837955388274854435\n"
     ]
    }
   ],
   "source": [
    "#Bob's message encoded and encrypted with Alice's public key and modulus.\n",
    "bob_message = \"MY SPY EYE SPIES LITTLE FLIES!\"\n",
    "bob_message_encoded = encode_message(bob_message)\n",
    "bob_ciphertext = power_mod(bob_message_encoded, Ea, Na)\n",
    "print(\"The ciphertext is: \")\n",
    "print(bob_ciphertext)\n",
    "print()\n",
    "\n",
    "#Bob's digital signature.\n",
    "bob_hashed = hash_message(bob_message)\n",
    "bob_hash_int = int(bob_hashed, 16)\n",
    "bob_digital_signature = power_mod(bob_hash_int, Db, Nb)\n",
    "print(\"Bob's digital signature is: \")\n",
    "print(bob_digital_signature)"
   ]
  },
  {
   "cell_type": "markdown",
   "id": "3b36c604",
   "metadata": {},
   "source": [
    "Finally validate a signature.  \n",
    "Say you are Alice, and you receive this digitally signed message:  \n",
    "message = `WE NEED TO OBTAIN THE DATA FILE ONE IMMEDIATELY`  \n",
    "signature = `84635300824201233164756878515597679151878722454899243802833883416142558505740809517766086977410665779047598931877880476387627089954879563464433736421917953336255847983780126364282104831007008610`\n",
    "(note: signature is a long value, and likely is running off the  \n",
    "screen, ensure you capture it all or properly use the variable)  \n",
    "Is this signature valid? Show your work."
   ]
  },
  {
   "cell_type": "code",
   "execution_count": 84,
   "id": "2f6fdef4",
   "metadata": {},
   "outputs": [
    {
     "name": "stdout",
     "output_type": "stream",
     "text": [
      "Is the signature value (True/False):  False\n",
      "\n"
     ]
    }
   ],
   "source": [
    "#Message and signature received by Alice.\n",
    "message = \"WE NEED TO OBTAIN THE DATA FILE ONE IMMEDIATELY\"\n",
    "signature = 84635300824201233164756878515597679151878722454899243802833883416142558505740809517766086977410665779047598931877880476387627089954879563464433736421917953336255847983780126364282104831007008610\n",
    "\n",
    "#Alice hashing message, and validating signature using Bob's public key. \n",
    "alice_hashes_message = hash_message(message)\n",
    "decrypted_signature = power_mod(signature, Eb, Nb)\n",
    "hash = hex(decrypted_signature)[2:]\n",
    "print(\"Is the signature value (True/False): \", str(alice_hashes_message == hash))\n",
    "print()\n",
    "\n",
    "#Printing Alice's hash and the hash provided for visual comparison.\n",
    "#print(\"Alice's hash: \", alice_hashes_message)\n",
    "#print(\"The hash provided: \", hash)\n",
    "\n"
   ]
  }
 ],
 "metadata": {
  "kernelspec": {
   "display_name": "SageMath 9.5",
   "language": "sage",
   "name": "sagemath-9.5"
  },
  "language_info": {
   "codemirror_mode": {
    "name": "ipython",
    "version": 3
   },
   "file_extension": ".py",
   "mimetype": "text/x-python",
   "name": "python",
   "nbconvert_exporter": "python",
   "pygments_lexer": "ipython3",
   "version": "3.9.9"
  }
 },
 "nbformat": 4,
 "nbformat_minor": 5
}
